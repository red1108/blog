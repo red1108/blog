{
 "cells": [
  {
   "cell_type": "code",
   "execution_count": 15,
   "id": "86443445",
   "metadata": {},
   "outputs": [
    {
     "name": "stderr",
     "output_type": "stream",
     "text": [
      "training loop:   0% |                                          | ETA:  --:--:--\r"
     ]
    },
    {
     "ename": "ValueError",
     "evalue": "max() arg is an empty sequence",
     "output_type": "error",
     "traceback": [
      "\u001B[1;31m---------------------------------------------------------------------------\u001B[0m",
      "\u001B[1;31mValueError\u001B[0m                                Traceback (most recent call last)",
      "\u001B[1;32m~\\AppData\\Local\\Temp/ipykernel_23872/1626971870.py\u001B[0m in \u001B[0;36m<module>\u001B[1;34m\u001B[0m\n\u001B[0;32m     24\u001B[0m     \u001B[1;32mwhile\u001B[0m \u001B[0mmytree\u001B[0m\u001B[1;33m.\u001B[0m\u001B[0mwinner\u001B[0m \u001B[1;32mis\u001B[0m \u001B[1;32mNone\u001B[0m\u001B[1;33m:\u001B[0m\u001B[1;33m\u001B[0m\u001B[1;33m\u001B[0m\u001B[0m\n\u001B[0;32m     25\u001B[0m         \u001B[1;32mfor\u001B[0m \u001B[0m_\u001B[0m \u001B[1;32min\u001B[0m \u001B[0mrange\u001B[0m\u001B[1;33m(\u001B[0m\u001B[1;36m50\u001B[0m\u001B[1;33m)\u001B[0m\u001B[1;33m:\u001B[0m\u001B[1;33m\u001B[0m\u001B[1;33m\u001B[0m\u001B[0m\n\u001B[1;32m---> 26\u001B[1;33m             \u001B[0mmytree\u001B[0m\u001B[1;33m.\u001B[0m\u001B[0mexplore\u001B[0m\u001B[1;33m(\u001B[0m\u001B[0magent\u001B[0m\u001B[1;33m)\u001B[0m\u001B[1;33m\u001B[0m\u001B[1;33m\u001B[0m\u001B[0m\n\u001B[0m\u001B[0;32m     27\u001B[0m \u001B[1;33m\u001B[0m\u001B[0m\n\u001B[0;32m     28\u001B[0m         \u001B[0mcurrent_player\u001B[0m \u001B[1;33m=\u001B[0m \u001B[0mmytree\u001B[0m\u001B[1;33m.\u001B[0m\u001B[0mgame\u001B[0m\u001B[1;33m.\u001B[0m\u001B[0mplayer\u001B[0m\u001B[1;33m\u001B[0m\u001B[1;33m\u001B[0m\u001B[0m\n",
      "\u001B[1;32mD:\\mingyu\\coding\\project\\blog\\blog\\AlphaZero\\MCTS.py\u001B[0m in \u001B[0;36mexplore\u001B[1;34m(self, agent)\u001B[0m\n\u001B[0;32m     63\u001B[0m \u001B[1;33m\u001B[0m\u001B[0m\n\u001B[0;32m     64\u001B[0m             \u001B[0mchild\u001B[0m \u001B[1;33m=\u001B[0m \u001B[0mcurrent\u001B[0m\u001B[1;33m.\u001B[0m\u001B[0mchild\u001B[0m\u001B[1;33m\u001B[0m\u001B[1;33m\u001B[0m\u001B[0m\n\u001B[1;32m---> 65\u001B[1;33m             \u001B[0mprint\u001B[0m\u001B[1;33m(\u001B[0m\u001B[1;34m\"hi\"\u001B[0m\u001B[1;33m)\u001B[0m\u001B[1;33m\u001B[0m\u001B[1;33m\u001B[0m\u001B[0m\n\u001B[0m\u001B[0;32m     66\u001B[0m             \u001B[0mprint\u001B[0m\u001B[1;33m(\u001B[0m\u001B[0mlen\u001B[0m\u001B[1;33m(\u001B[0m\u001B[0mchild\u001B[0m\u001B[1;33m)\u001B[0m\u001B[1;33m)\u001B[0m\u001B[1;33m\u001B[0m\u001B[1;33m\u001B[0m\u001B[0m\n\u001B[0;32m     67\u001B[0m             \u001B[0mprint\u001B[0m\u001B[1;33m(\u001B[0m\u001B[0mchild\u001B[0m\u001B[1;33m)\u001B[0m\u001B[1;33m\u001B[0m\u001B[1;33m\u001B[0m\u001B[0m\n",
      "\u001B[1;31mValueError\u001B[0m: max() arg is an empty sequence"
     ]
    }
   ],
   "source": [
    "from collections import deque\n",
    "import MCTS\n",
    "import numpy as np\n",
    "from ConnectX import ConnectX\n",
    "from Agent import Agent_random, Agent_DNN\n",
    "import tensorflow as tf\n",
    "\n",
    "\n",
    "episodes = 400\n",
    "outcomes = []\n",
    "losses = []\n",
    "\n",
    "agent = Agent_DNN()\n",
    "\n",
    "import progressbar as pb\n",
    "widget = ['training loop: ', pb.Percentage(), ' ', \n",
    "          pb.Bar(), ' ', pb.ETA() ]\n",
    "timer = pb.ProgressBar(widgets=widget, maxval=episodes).start()\n",
    "\n",
    "actor_optimizer = tf.keras.optimizers.Adam(1e-3)\n",
    "critic_optimizer = tf.keras.optimizers.Adam(1e-3)\n",
    "\n",
    "for e in range(episodes):\n",
    "\n",
    "    mytree = MCTS.Node(ConnectX())\n",
    "    vterm = []\n",
    "    logterm = []\n",
    "    with tf.GradientTape() as actor_tape, tf.GradientTape() as critic_tape:\n",
    "\n",
    "        while mytree.winner is None:\n",
    "            for _ in range(50):\n",
    "                mytree.explore(agent)\n",
    "\n",
    "            current_player = mytree.game.player\n",
    "            mytree, (v, nn_v, p, nn_p) = mytree.next()\n",
    "            mytree.detach_mother()\n",
    "\n",
    "            # compute prob * log pi\n",
    "            loglist = np.log(nn_p)*p\n",
    "\n",
    "            # constant term to make sure if policy result = MCTS result, loss = 0\n",
    "            constant = np.where(p>0, p*torch.log(p), 0.)\n",
    "            logterm.append(-np.sum(loglist-constant))\n",
    "\n",
    "            vterm.append(nn_v*current_player)\n",
    "\n",
    "\n",
    "        # we compute the \"policy_loss\" for computing gradient\n",
    "        outcome = mytree.winner\n",
    "        outcomes.append(outcome)\n",
    "        actor_loss = np.sum(np.stack(logterm))\n",
    "        critic_loss = np.sum((np.stack(vterm)-outcome)**2)\n",
    "        loss = actor_loss + critic_loss\n",
    "        #loss = np.sum( (np.stack(vterm)-outcome)**2 + np.stack(logterm) )\n",
    "        grad_actor = actor_tape.gradient(actor_loss, agent.actor.trainable_variables)\n",
    "        grad_critic = critic_tape.gradient(critic_loss, agent.critic.trainable_variables)\n",
    "\n",
    "        actor_optimizer.apply_gradients(zip(grad_actor, agent.actor.trainable_variables))\n",
    "        critic_optimizer.apply_gradients(zip(grad_critic, agent.critic.trainable_variables))\n",
    "\n",
    "        losses.append(float(loss))\n",
    "    \n",
    "    if (e+1)%50==0:\n",
    "        print(\"game: \",e+1, \", mean loss: {:3.2f}\".format(np.mean(losses[-20:])),\n",
    "              \", recent outcomes: \", outcomes[-10:])\n",
    "    del loss\n",
    "    \n",
    "    timer.update(e+1)\n",
    "    \n",
    "    \n",
    "timer.finish()"
   ]
  },
  {
   "cell_type": "code",
   "execution_count": 12,
   "id": "26540eff",
   "metadata": {},
   "outputs": [],
   "source": [
    "import MCTS\n",
    "\n",
    "from copy import copy\n",
    "import random\n",
    "from ConnectX import ConnectX\n",
    "\n",
    "from Agent import Agent_random, Agent_DNN\n",
    "agent = Agent_DNN()\n",
    "\n",
    "def Agent_Player_MCTS(game):\n",
    "    mytree = MCTS.Node(copy(game))\n",
    "    for _ in range(50):\n",
    "        mytree.explore(agent)\n",
    "   \n",
    "    mytreenext, (v, nn_v, p, nn_p) = mytree.next(temperature=0.1)"
   ]
  },
  {
   "cell_type": "code",
   "execution_count": 13,
   "id": "696b4773",
   "metadata": {},
   "outputs": [
    {
     "name": "stdout",
     "output_type": "stream",
     "text": [
      "=======\n",
      "       \n",
      "       \n",
      "       \n",
      "       \n",
      "       \n",
      "       \n",
      "=======\n",
      "<MCTS.Node object at 0x000002321C06F7C0>\n"
     ]
    },
    {
     "ename": "ValueError",
     "evalue": "ERROR: have no children",
     "output_type": "error",
     "traceback": [
      "\u001B[1;31m---------------------------------------------------------------------------\u001B[0m",
      "\u001B[1;31mValueError\u001B[0m                                Traceback (most recent call last)",
      "\u001B[1;32m~\\AppData\\Local\\Temp/ipykernel_30660/2147027446.py\u001B[0m in \u001B[0;36m<module>\u001B[1;34m\u001B[0m\n\u001B[0;32m      1\u001B[0m \u001B[0mgame\u001B[0m \u001B[1;33m=\u001B[0m \u001B[0mConnectX\u001B[0m\u001B[1;33m(\u001B[0m\u001B[1;33m)\u001B[0m\u001B[1;33m\u001B[0m\u001B[1;33m\u001B[0m\u001B[0m\n\u001B[0;32m      2\u001B[0m \u001B[0mprint\u001B[0m\u001B[1;33m(\u001B[0m\u001B[0mgame\u001B[0m\u001B[1;33m)\u001B[0m\u001B[1;33m\u001B[0m\u001B[1;33m\u001B[0m\u001B[0m\n\u001B[1;32m----> 3\u001B[1;33m \u001B[0mAgent_Player_MCTS\u001B[0m\u001B[1;33m(\u001B[0m\u001B[0mgame\u001B[0m\u001B[1;33m)\u001B[0m\u001B[1;33m\u001B[0m\u001B[1;33m\u001B[0m\u001B[0m\n\u001B[0m",
      "\u001B[1;32m~\\AppData\\Local\\Temp/ipykernel_30660/3748758307.py\u001B[0m in \u001B[0;36mAgent_Player_MCTS\u001B[1;34m(game)\u001B[0m\n\u001B[0;32m     11\u001B[0m     \u001B[0mmytree\u001B[0m \u001B[1;33m=\u001B[0m \u001B[0mMCTS\u001B[0m\u001B[1;33m.\u001B[0m\u001B[0mNode\u001B[0m\u001B[1;33m(\u001B[0m\u001B[0mcopy\u001B[0m\u001B[1;33m(\u001B[0m\u001B[0mgame\u001B[0m\u001B[1;33m)\u001B[0m\u001B[1;33m)\u001B[0m\u001B[1;33m\u001B[0m\u001B[1;33m\u001B[0m\u001B[0m\n\u001B[0;32m     12\u001B[0m     \u001B[1;32mfor\u001B[0m \u001B[0m_\u001B[0m \u001B[1;32min\u001B[0m \u001B[0mrange\u001B[0m\u001B[1;33m(\u001B[0m\u001B[1;36m50\u001B[0m\u001B[1;33m)\u001B[0m\u001B[1;33m:\u001B[0m\u001B[1;33m\u001B[0m\u001B[1;33m\u001B[0m\u001B[0m\n\u001B[1;32m---> 13\u001B[1;33m         \u001B[0mmytree\u001B[0m\u001B[1;33m.\u001B[0m\u001B[0mexplore\u001B[0m\u001B[1;33m(\u001B[0m\u001B[0magent\u001B[0m\u001B[1;33m)\u001B[0m\u001B[1;33m\u001B[0m\u001B[1;33m\u001B[0m\u001B[0m\n\u001B[0m\u001B[0;32m     14\u001B[0m \u001B[1;33m\u001B[0m\u001B[0m\n\u001B[0;32m     15\u001B[0m     \u001B[0mmytreenext\u001B[0m\u001B[1;33m,\u001B[0m \u001B[1;33m(\u001B[0m\u001B[0mv\u001B[0m\u001B[1;33m,\u001B[0m \u001B[0mnn_v\u001B[0m\u001B[1;33m,\u001B[0m \u001B[0mp\u001B[0m\u001B[1;33m,\u001B[0m \u001B[0mnn_p\u001B[0m\u001B[1;33m)\u001B[0m \u001B[1;33m=\u001B[0m \u001B[0mmytree\u001B[0m\u001B[1;33m.\u001B[0m\u001B[0mnext\u001B[0m\u001B[1;33m(\u001B[0m\u001B[0mtemperature\u001B[0m\u001B[1;33m=\u001B[0m\u001B[1;36m0.1\u001B[0m\u001B[1;33m)\u001B[0m\u001B[1;33m\u001B[0m\u001B[1;33m\u001B[0m\u001B[0m\n",
      "\u001B[1;32md:\\mingyu\\coding\\project\\blog\\blog\\AlphaZero\\MCTS.py\u001B[0m in \u001B[0;36mexplore\u001B[1;34m(self, agent)\u001B[0m\n\u001B[0;32m     69\u001B[0m \u001B[1;33m\u001B[0m\u001B[0m\n\u001B[0;32m     70\u001B[0m             \u001B[1;31m# Choose the best action.\u001B[0m\u001B[1;33m\u001B[0m\u001B[1;33m\u001B[0m\u001B[1;33m\u001B[0m\u001B[0m\n\u001B[1;32m---> 71\u001B[1;33m             \u001B[0mactions\u001B[0m \u001B[1;33m=\u001B[0m \u001B[1;33m[\u001B[0m\u001B[0ma\u001B[0m \u001B[1;32mfor\u001B[0m \u001B[0ma\u001B[0m\u001B[1;33m,\u001B[0m \u001B[0mc\u001B[0m \u001B[1;32min\u001B[0m \u001B[0mchild\u001B[0m\u001B[1;33m.\u001B[0m\u001B[0mitems\u001B[0m\u001B[1;33m(\u001B[0m\u001B[1;33m)\u001B[0m \u001B[1;32mif\u001B[0m \u001B[0mc\u001B[0m\u001B[1;33m.\u001B[0m\u001B[0mU\u001B[0m \u001B[1;33m==\u001B[0m \u001B[0mmax_U\u001B[0m\u001B[1;33m]\u001B[0m\u001B[1;33m\u001B[0m\u001B[1;33m\u001B[0m\u001B[0m\n\u001B[0m\u001B[0;32m     72\u001B[0m             \u001B[1;32mif\u001B[0m \u001B[0mlen\u001B[0m\u001B[1;33m(\u001B[0m\u001B[0mactions\u001B[0m\u001B[1;33m)\u001B[0m \u001B[1;33m==\u001B[0m \u001B[1;36m0\u001B[0m\u001B[1;33m:\u001B[0m\u001B[1;33m\u001B[0m\u001B[1;33m\u001B[0m\u001B[0m\n\u001B[0;32m     73\u001B[0m                 \u001B[1;32mraise\u001B[0m \u001B[0mValueError\u001B[0m\u001B[1;33m(\u001B[0m\u001B[1;34m\"ERROR: have no children\"\u001B[0m\u001B[1;33m)\u001B[0m\u001B[1;33m\u001B[0m\u001B[1;33m\u001B[0m\u001B[0m\n",
      "\u001B[1;31mValueError\u001B[0m: ERROR: have no children"
     ]
    }
   ],
   "source": [
    "game = ConnectX()\n",
    "print(game)\n",
    "Agent_Player_MCTS(game)"
   ]
  },
  {
   "cell_type": "code",
   "execution_count": null,
   "id": "2b041640",
   "metadata": {},
   "outputs": [],
   "source": []
  }
 ],
 "metadata": {
  "kernelspec": {
   "display_name": "Python 3",
   "language": "python",
   "name": "python3"
  },
  "language_info": {
   "codemirror_mode": {
    "name": "ipython",
    "version": 3
   },
   "file_extension": ".py",
   "mimetype": "text/x-python",
   "name": "python",
   "nbconvert_exporter": "python",
   "pygments_lexer": "ipython3",
   "version": "3.8.12"
  }
 },
 "nbformat": 4,
 "nbformat_minor": 5
}